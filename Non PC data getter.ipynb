{
 "cells": [
  {
   "cell_type": "markdown",
   "metadata": {},
   "source": [
    "# Non PC Tangle Data"
   ]
  },
  {
   "cell_type": "code",
   "execution_count": null,
   "metadata": {},
   "outputs": [],
   "source": [
    "import time\n",
    "import numpy as np\n",
    "import matplotlib.pyplot as plt\n",
    "import pandas as pd\n",
    "\n",
    "from tangle import Tangle, node_graph, watcher, analyser\n",
    "from PC_classes import mal_node"
   ]
  },
  {
   "cell_type": "code",
   "execution_count": null,
   "metadata": {},
   "outputs": [],
   "source": [
    "for trial in range(1,101):\n",
    "    ### Instantiating all the classes   ###\n",
    "    t2 = Tangle(rate=3, tip_selection='mcmc', plot=True)\n",
    "    ng2 = node_graph(t2)\n",
    "    w2 = watcher(t2, ng2, trial)\n",
    "\n",
    "    ### Adding nodes to the node graph  ###\n",
    "    for n in range(4):\n",
    "        ng2.new_node()\n",
    "\n",
    "    while t2.time < 60:\n",
    "        node = np.random.randint(0, 4)\n",
    "        dt_time = np.random.exponential(1.0/t2.rate)\n",
    "        t2.time += dt_time\n",
    "        ng2.nodes[node].issue_transaction()\n",
    "        w2.update()\n",
    "        print(t2.time)\n",
    "\n",
    "    w2.output_to_sheet()"
   ]
  },
  {
   "cell_type": "code",
   "execution_count": null,
   "metadata": {},
   "outputs": [],
   "source": [
    "a2 = analyser()\n",
    "results2 = a2.get_res(100)\n",
    "df2 = pd.DataFrame(results2)\n",
    "confirmed2 = df2[1].tolist()\n",
    "times2 = df2[0].tolist()\n",
    "plt.plot(times2, confirmed2)\n",
    "plt.title('Number of Confirmations over Time')\n",
    "plt.xlabel('Time')\n",
    "plt.ylabel('Confirmations')"
   ]
  },
  {
   "cell_type": "code",
   "execution_count": null,
   "metadata": {},
   "outputs": [],
   "source": [
    "df2.to_csv(\"Non-PC 100\")"
   ]
  }
 ],
 "metadata": {
  "language_info": {
   "name": "python"
  }
 },
 "nbformat": 4,
 "nbformat_minor": 2
}
