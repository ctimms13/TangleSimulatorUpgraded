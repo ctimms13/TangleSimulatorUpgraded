{
 "cells": [
  {
   "cell_type": "markdown",
   "metadata": {},
   "source": [
    "This is my testing centre"
   ]
  },
  {
   "cell_type": "code",
   "execution_count": 1,
   "metadata": {},
   "outputs": [],
   "source": [
    "import time\n",
    "import numpy as np\n",
    "import matplotlib.pyplot as plt\n",
    "import pandas as pd\n",
    "\n",
    "from tangle import Tangle, node_graph, watcher\n",
    "from PC_classes import mal_node\n"
   ]
  },
  {
   "cell_type": "code",
   "execution_count": 16,
   "metadata": {},
   "outputs": [],
   "source": [
    "class analyser():\n",
    "\n",
    "    def __init__(self):\n",
    "        self.help = None \n",
    "        self.me = None \n",
    "        self.please = None \n",
    "\n",
    "    def get_res(self, i):\n",
    "        num_of_runs = i\n",
    "        j = 1\n",
    "        results = []\n",
    "        \n",
    "        while j <= num_of_runs:\n",
    "            df = pd.read_csv(\"confirmations\"+str(j))\n",
    "            length = df.shape[0]\n",
    "            curRow = 0\n",
    "            while curRow < length:\n",
    "                next_time = df.iloc[curRow, 2]\n",
    "                next_val = df.iloc[curRow, 1]\n",
    "                if len(results) == 0:\n",
    "                    results.append([next_time, next_val, 1])\n",
    "                else:\n",
    "                    res_counter = 0\n",
    "                    len_res = len(results)\n",
    "                    while res_counter <= len_res:\n",
    "                        \n",
    "                        if res_counter == len_res:\n",
    "                            results.append([next_time, next_val, 1])\n",
    "\n",
    "                        elif results[res_counter][0] == next_time:\n",
    "                            results[res_counter][2] += 1\n",
    "                            results[res_counter][1] = (results[res_counter][1]+next_val)/results[res_counter][2] \n",
    "                            # Average the value so I don't have to do it later  \n",
    "\n",
    "                        elif results[res_counter][0] > next_time:\n",
    "                            i = x.index()\n",
    "                            results.insert(i, [next_time, next_val, 1])\n",
    "                        \n",
    "                        res_counter += 1\n",
    "\n",
    "                curRow += 1\n",
    "            j += 1\n",
    "        print(results)\n"
   ]
  },
  {
   "cell_type": "code",
   "execution_count": 17,
   "metadata": {},
   "outputs": [
    {
     "name": "stdout",
     "output_type": "stream",
     "text": [
      "[[1.0, 1, 1], [1.3, 1, 1], [1.5, 1, 1], [1.6, 1, 1], [1.9, 1, 1], [2.0, 1.0, 2], [2.0, 1, 1], [2.3, 1, 1], [2.5, 1, 1], [3.1, 1, 1], [3.2, 1, 1], [3.3, 1.5, 2], [3.3, 2, 1], [3.5, 2, 1], [3.7, 2, 1], [4.0, 2, 1], [4.5, 3, 1], [4.6, 5, 1], [4.7, 5, 1], [5.3, 7, 1], [5.4, 7, 1], [6.2, 9, 1], [6.4, 10, 1], [7.4, 13, 1], [7.9, 14, 1], [8.2, 14, 1], [8.5, 14, 1], [8.8, 16, 1]]\n"
     ]
    }
   ],
   "source": [
    "a = analyser()\n",
    "a.get_res(1)\n",
    "#print(\"WHHHHHY\")"
   ]
  }
 ],
 "metadata": {
  "kernelspec": {
   "display_name": "Python 3",
   "language": "python",
   "name": "python3"
  },
  "language_info": {
   "codemirror_mode": {
    "name": "ipython",
    "version": 3
   },
   "file_extension": ".py",
   "mimetype": "text/x-python",
   "name": "python",
   "nbconvert_exporter": "python",
   "pygments_lexer": "ipython3",
   "version": "3.12.0"
  }
 },
 "nbformat": 4,
 "nbformat_minor": 2
}
