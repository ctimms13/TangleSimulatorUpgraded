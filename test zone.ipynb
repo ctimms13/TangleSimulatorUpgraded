{
 "cells": [
  {
   "cell_type": "markdown",
   "metadata": {},
   "source": [
    "This is my testing centre"
   ]
  },
  {
   "cell_type": "code",
   "execution_count": 1,
   "metadata": {},
   "outputs": [],
   "source": [
    "import time\n",
    "import numpy as np\n",
    "import matplotlib.pyplot as plt\n",
    "import pandas as pd\n",
    "\n",
    "from tangle import Tangle, node_graph, watcher\n",
    "from PC_classes import mal_node\n"
   ]
  },
  {
   "cell_type": "code",
   "execution_count": 2,
   "metadata": {},
   "outputs": [],
   "source": [
    "class analyser():\n",
    "\n",
    "    def __init__(self):\n",
    "        self.help = None \n",
    "        self.me = None \n",
    "        self.please = None \n",
    "\n",
    "    def get_res(self, i):\n",
    "        num_of_runs = i\n",
    "        j = 1\n",
    "        results = []\n",
    "        \n",
    "        while j <= num_of_runs:\n",
    "            df = pd.read_csv(\"confirmations\"+str(j))\n",
    "            length = df.shape[0]\n",
    "            curRow = 0\n",
    "            while curRow < length:\n",
    "                next_time = df.iloc[curRow, 2]\n",
    "                next_val = df.iloc[curRow, 1]\n",
    "                if len(results) == 0:\n",
    "                    results.append([next_time, next_val, 1])\n",
    "                else:\n",
    "                    res_counter = 0\n",
    "                    len_res = len(results)\n",
    "                    found = False   # Flag to dictate \n",
    "                    while (res_counter <= len_res) and found == False:\n",
    "                        \n",
    "                        if res_counter == len_res:\n",
    "                            results.append([next_time, next_val, 1])\n",
    "                            #print([next_time, next_val, 1, res_counter])\n",
    "                            found = True\n",
    "\n",
    "                        elif results[res_counter][0] == next_time:\n",
    "                            results[res_counter][2] += 1\n",
    "                            results[res_counter][1] = (results[res_counter][1]+next_val)\n",
    "                            #print([next_time, next_val, \"Fuck\", res_counter])\n",
    "                            found = True\n",
    "\n",
    "                        elif (results[res_counter][0] > next_time) and (results[res_counter][0] != next_time):\n",
    "                            i = res_counter\n",
    "                            results.insert(i, [next_time, next_val, 1])\n",
    "                            found = True\n",
    "                        \n",
    "                        res_counter += 1\n",
    "\n",
    "                curRow += 1\n",
    "            j += 1\n",
    "\n",
    "\n",
    "\n",
    "        for x in results:\n",
    "            temp = x[1]\n",
    "            x[1] = temp/x[2]\n",
    "\n",
    "        print(results)\n",
    "        return results"
   ]
  },
  {
   "cell_type": "code",
   "execution_count": 3,
   "metadata": {},
   "outputs": [
    {
     "name": "stdout",
     "output_type": "stream",
     "text": [
      "[[1, 1.0, 19], [2, 1.0, 28], [3, 1.0333333333333334, 30], [4, 1.1363636363636365, 22], [5, 3.217391304347826, 23], [6, 4.814814814814815, 27], [7, 5.038461538461538, 26], [8, 9.05, 20], [9, 13.76923076923077, 13], [10, 13.733333333333333, 15], [11, 17.214285714285715, 14], [12, 18.866666666666667, 15], [13, 20.94736842105263, 19], [14, 23.0, 12], [15, 23.76923076923077, 13], [16, 25.352941176470587, 17], [17, 26.066666666666666, 15], [18, 28.692307692307693, 13], [19, 29.615384615384617, 13], [20, 31.0, 16], [21, 32.86666666666667, 15], [22, 34.45454545454545, 11], [23, 35.166666666666664, 12], [24, 38.4, 10], [25, 39.2, 10], [26, 39.388888888888886, 18], [27, 40.375, 16], [28, 40.916666666666664, 12], [29, 45.333333333333336, 9], [30, 45.714285714285715, 14], [31, 46.86666666666667, 15], [32, 46.857142857142854, 14], [33, 50.90909090909091, 11], [34, 52.1578947368421, 19], [35, 53.23076923076923, 13], [36, 55.2, 15], [37, 57.888888888888886, 18], [38, 56.833333333333336, 12], [39, 59.083333333333336, 12], [40, 61.2, 15], [41, 62.333333333333336, 15], [42, 63.9, 10], [43, 64.0, 14], [44, 68.11764705882354, 17], [45, 69.11764705882354, 17], [46, 70.08333333333333, 12], [47, 71.38888888888889, 18], [48, 73.4, 15], [49, 76.0, 11], [50, 77.6, 10], [51, 77.82352941176471, 17], [52, 79.5625, 16], [53, 81.18181818181819, 11], [54, 85.0, 15], [55, 82.91666666666667, 12], [56, 85.71428571428571, 14], [57, 87.5, 16], [58, 87.5, 12], [59, 89.64285714285714, 14], [60, 92.0, 14], [61, 97.5, 2]]\n"
     ]
    }
   ],
   "source": [
    "a = analyser()\n",
    "res = a.get_res(9)\n",
    "#print(\"WHHHHHY\")"
   ]
  }
 ],
 "metadata": {
  "kernelspec": {
   "display_name": "Python 3",
   "language": "python",
   "name": "python3"
  },
  "language_info": {
   "codemirror_mode": {
    "name": "ipython",
    "version": 3
   },
   "file_extension": ".py",
   "mimetype": "text/x-python",
   "name": "python",
   "nbconvert_exporter": "python",
   "pygments_lexer": "ipython3",
   "version": "3.12.0"
  }
 },
 "nbformat": 4,
 "nbformat_minor": 2
}
